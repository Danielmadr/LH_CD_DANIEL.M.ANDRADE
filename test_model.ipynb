{
 "cells": [
  {
   "cell_type": "markdown",
   "id": "b6c554bc",
   "metadata": {},
   "source": [
    "# Demonstração da Nova Estrutura de ML\n",
    "\n",
    "Este notebook demonstra como usar a estrutura refatorada que separa claramente:\n",
    "- **Preparação dos dados** (DataProcessor)\n",
    "- **Treinamento do modelo** (ModelTrainer)\n",
    "- **Predição** (MoviePredictor)\n",
    "\n",
    "## Vantagens da nova estrutura:\n",
    "1. **Separação de responsabilidades**: Cada classe tem uma função específica\n",
    "2. **Reutilização**: Processor e modelo podem ser salvos e reutilizados\n",
    "3. **Consistência**: Mesmas transformações no treino e predição\n",
    "4. **Escalabilidade**: Fácil adicionar novas features ou modelos\n",
    "5. **Testabilidade**: Cada componente pode ser testado separadamente"
   ]
  },
  {
   "cell_type": "markdown",
   "id": "d4903e07",
   "metadata": {},
   "source": [
    "## 1. Carregando os Componentes Treinados"
   ]
  },
  {
   "cell_type": "code",
   "execution_count": 1,
   "id": "bb455202",
   "metadata": {},
   "outputs": [],
   "source": [
    "# Importar as classes da nova estrutura\n",
    "import sys\n",
    "sys.path.append('scripts')\n",
    "\n",
    "from scripts.data_processor import DataProcessor\n",
    "from scripts.train_model import ModelTrainer\n",
    "from scripts.predict import MoviePredictor\n",
    "import pandas as pd\n",
    "import numpy as np"
   ]
  },
  {
   "cell_type": "code",
   "execution_count": 2,
   "id": "fee70b21",
   "metadata": {},
   "outputs": [
    {
     "name": "stdout",
     "output_type": "stream",
     "text": [
      "Modelo existe: True\n",
      "Processor existe: True\n"
     ]
    }
   ],
   "source": [
    "# Verificar se os arquivos do modelo existem\n",
    "from pathlib import Path\n",
    "\n",
    "model_path = \"models/rf_model.pkl\"\n",
    "processor_path = \"models/data_processor.pkl\"\n",
    "\n",
    "print(f\"Modelo existe: {Path(model_path).exists()}\")\n",
    "print(f\"Processor existe: {Path(processor_path).exists()}\")\n",
    "\n",
    "if not Path(model_path).exists():\n",
    "    print(\"\\n⚠️ Execute primeiro: python scripts/train_model_v2.py --db data/production.db\")"
   ]
  },
  {
   "cell_type": "code",
   "execution_count": 3,
   "id": "f7dc1877",
   "metadata": {},
   "outputs": [
    {
     "name": "stdout",
     "output_type": "stream",
     "text": [
      "Modelo carregado de: models/rf_model.pkl\n",
      "Processor carregado de: models/data_processor.pkl\n",
      "Features do modelo: 16\n",
      "✅ Sistema carregado com sucesso!\n",
      "📊 Features utilizadas: 16\n"
     ]
    }
   ],
   "source": [
    "# Carregar o preditor (que carrega modelo e processor automaticamente)\n",
    "predictor = MoviePredictor(model_path, processor_path)\n",
    "\n",
    "print(f\"✅ Sistema carregado com sucesso!\")\n",
    "print(f\"📊 Features utilizadas: {len(predictor.model_trainer.feature_names)}\")"
   ]
  },
  {
   "cell_type": "markdown",
   "id": "35f808b7",
   "metadata": {},
   "source": [
    "## 2. Testando Predições com Diferentes Filmes"
   ]
  },
  {
   "cell_type": "code",
   "execution_count": 4,
   "id": "184e98d2",
   "metadata": {},
   "outputs": [
    {
     "name": "stdout",
     "output_type": "stream",
     "text": [
      "🎬 THE SHAWSHANK REDEMPTION\n",
      "========================================\n",
      "\n",
      "Predição: 8.76\n",
      "\n",
      "Top 5 features mais importantes:\n",
      "--------------------------------------------------\n",
      "1. No_of_Votes         : 2343110.00 (imp: 0.2379)\n",
      "2. Log_Votes           : 14.67      (imp: 0.2326)\n",
      "3. Meta_score_filled   : 80.00      (imp: 0.1447)\n",
      "4. Released_Year       : 1994.00    (imp: 0.0841)\n",
      "5. Log_Gross           : 17.16      (imp: 0.0816)\n",
      "\n",
      "🌟 Rating IMDB real: 9.3\n",
      "🎯 Erro absoluto: 0.54\n"
     ]
    }
   ],
   "source": [
    "# Filme 1: The Shawshank Redemption (Clássico aclamado)\n",
    "shawshank = {\n",
    "    'Series_Title': 'The Shawshank Redemption',\n",
    "    'Released_Year': 1994,\n",
    "    'Certificate': 'A',\n",
    "    'Runtime': '142 min',\n",
    "    'Genre': 'Drama',\n",
    "    'Overview': 'Two imprisoned men bond over a number of years.',\n",
    "    'Meta_score': 80.0,\n",
    "    'Director': 'Frank Darabont',\n",
    "    'Star1': 'Tim Robbins',\n",
    "    'Star2': 'Morgan Freeman',\n",
    "    'Star3': 'Bob Gunton',\n",
    "    'Star4': 'William Sadler',\n",
    "    'No_of_Votes': 2343110,\n",
    "    'Gross': '28341469'\n",
    "}\n",
    "\n",
    "print(\"🎬 THE SHAWSHANK REDEMPTION\")\n",
    "print(\"=\" * 40)\n",
    "prediction = predictor.explain_prediction(shawshank, top_features=5)\n",
    "print(f\"\\n🌟 Rating IMDB real: 9.3\")\n",
    "print(f\"🎯 Erro absoluto: {abs(9.3 - prediction):.2f}\")"
   ]
  },
  {
   "cell_type": "code",
   "execution_count": 27,
   "id": "6f824804",
   "metadata": {},
   "outputs": [
    {
     "name": "stdout",
     "output_type": "stream",
     "text": [
      "\n",
      "🎬 AVENGERS: ENDGAME\n",
      "========================================\n",
      "\n",
      "Predição: 8.15\n",
      "\n",
      "Top 5 features mais importantes:\n",
      "--------------------------------------------------\n",
      "1. No_of_Votes         : 987654.00  (imp: 0.2379)\n",
      "2. Log_Votes           : 13.80      (imp: 0.2326)\n",
      "3. Meta_score_filled   : 78.00      (imp: 0.1447)\n",
      "4. Released_Year       : 2019.00    (imp: 0.0841)\n",
      "5. Log_Gross           : 20.57      (imp: 0.0816)\n",
      "\n",
      "🌟 Rating IMDB real: 8.4\n",
      "🎯 Erro absoluto: 0.25\n"
     ]
    }
   ],
   "source": [
    "# Filme 2: Avengers Endgame (Blockbuster recente)\n",
    "avengers = {\n",
    "    'Series_Title': 'Avengers: Endgame',\n",
    "    'Released_Year': 2019,\n",
    "    'Certificate': 'PG-13',\n",
    "    'Runtime': '181 min',\n",
    "    'Genre': 'Action,Adventure,Drama',\n",
    "    'Overview': 'After the devastating events of Infinity War.',\n",
    "    'Meta_score': 78.0,\n",
    "    'Director': 'Anthony Russo',\n",
    "    'Star1': 'Robert Downey Jr.',\n",
    "    'Star2': 'Chris Evans',\n",
    "    'Star3': 'Mark Ruffalo',\n",
    "    'Star4': 'Chris Hemsworth',\n",
    "    'No_of_Votes': 987654,\n",
    "    'Gross': '858373000'\n",
    "}\n",
    "\n",
    "print(\"\\n🎬 AVENGERS: ENDGAME\")\n",
    "print(\"=\" * 40)\n",
    "prediction_avengers = predictor.explain_prediction(avengers, top_features=5)\n",
    "print(f\"\\n🌟 Rating IMDB real: 8.4\")\n",
    "print(f\"🎯 Erro absoluto: {abs(8.4 - prediction_avengers):.2f}\")"
   ]
  },
  {
   "cell_type": "code",
   "execution_count": 38,
   "id": "2f72ced2",
   "metadata": {},
   "outputs": [
    {
     "name": "stdout",
     "output_type": "stream",
     "text": [
      "\n",
      "🎬 INDIE DRAMA (Filme hipotético)\n",
      "========================================\n",
      "\n",
      "Predição: 7.80\n",
      "\n",
      "Top 5 features mais importantes:\n",
      "--------------------------------------------------\n",
      "1. No_of_Votes         : 1500.00    (imp: 0.2379)\n",
      "2. Log_Votes           : 7.31       (imp: 0.2326)\n",
      "3. Meta_score_filled   : 65.00      (imp: 0.1447)\n",
      "4. Released_Year       : 2020.00    (imp: 0.0841)\n",
      "5. Log_Gross           : 11.92      (imp: 0.0816)\n",
      "\n",
      "💭 Este seria um filme independente com características de baixo orçamento\n"
     ]
    }
   ],
   "source": [
    "# Filme 3: Filme hipotético de baixo orçamento\n",
    "indie_film = {\n",
    "    'Series_Title': 'Indie Drama',\n",
    "    'Released_Year': 2020,\n",
    "    'Certificate': 'R',\n",
    "    'Runtime': '95 min',\n",
    "    'Genre': 'Drama',\n",
    "    'Overview': 'A small indie drama.',\n",
    "    'Meta_score': 65.0,\n",
    "    'Director': 'Unknown Director',\n",
    "    'Star1': 'Unknown Actor 1',\n",
    "    'Star2': 'Unknown Actor 2',\n",
    "    'Star3': 'Unknown Actor 3',\n",
    "    'Star4': 'Unknown Actor 4',\n",
    "    'No_of_Votes': 1500,  # Poucos votos\n",
    "    'Gross': '150000'     # Baixa bilheteria\n",
    "}\n",
    "\n",
    "print(\"\\n🎬 INDIE DRAMA (Filme hipotético)\")\n",
    "print(\"=\" * 40)\n",
    "prediction_indie = predictor.explain_prediction(indie_film, top_features=5)\n",
    "print(f\"\\n💭 Este seria um filme independente com características de baixo orçamento\")"
   ]
  },
  {
   "cell_type": "markdown",
   "id": "ecd37354",
   "metadata": {},
   "source": [
    "## 3. Predição em Lote"
   ]
  },
  {
   "cell_type": "code",
   "execution_count": 33,
   "id": "05331c8c",
   "metadata": {},
   "outputs": [
    {
     "name": "stdout",
     "output_type": "stream",
     "text": [
      "🎬 PREDIÇÃO EM LOTE\n",
      "==================================================\n",
      "                   Filme  Ano   Votos  Rating_Predito\n",
      "The Shawshank Redemption 1994 2343110            8.76\n",
      "       Avengers: Endgame 2019  987654            8.15\n",
      "             Indie Drama 2020    1500            7.80\n"
     ]
    }
   ],
   "source": [
    "# Criar DataFrame com múltiplos filmes\n",
    "movies_batch = pd.DataFrame([\n",
    "    shawshank,\n",
    "    avengers,\n",
    "    indie_film\n",
    "])\n",
    "\n",
    "print(\"🎬 PREDIÇÃO EM LOTE\")\n",
    "print(\"=\" * 50)\n",
    "\n",
    "# Fazer predições em lote\n",
    "batch_predictions = predictor.predict_batch(movies_batch)\n",
    "\n",
    "# Mostrar resultados\n",
    "results = pd.DataFrame({\n",
    "    'Filme': movies_batch['Series_Title'],\n",
    "    'Ano': movies_batch['Released_Year'],\n",
    "    'Votos': movies_batch['No_of_Votes'],\n",
    "    'Rating_Predito': batch_predictions.round(2)\n",
    "})\n",
    "\n",
    "print(results.to_string(index=False))"
   ]
  },
  {
   "cell_type": "markdown",
   "id": "9801a6c6",
   "metadata": {},
   "source": [
    "## 4. Análise das Features Mais Importantes"
   ]
  },
  {
   "cell_type": "code",
   "execution_count": 34,
   "id": "c081387e",
   "metadata": {},
   "outputs": [
    {
     "data": {
      "image/png": "[encoded data removed]",
      "text/plain": [
       "<Figure size 1000x800 with 1 Axes>"
      ]
     },
     "metadata": {},
     "output_type": "display_data"
    },
    {
     "name": "stdout",
     "output_type": "stream",
     "text": [
      "📊 TOP 10 FEATURES MAIS IMPORTANTES:\n",
      "==================================================\n",
      " 1. Certificate_grouped : 0.0253\n",
      " 2. Has_Meta_Score      : 0.0281\n",
      " 3. Gross               : 0.0347\n",
      " 4. Movie_Age           : 0.0428\n",
      " 5. Runtime_filled      : 0.0777\n",
      " 6. Log_Gross           : 0.0816\n",
      " 7. Released_Year       : 0.0841\n",
      " 8. Meta_score_filled   : 0.1447\n",
      " 9. Log_Votes           : 0.2326\n",
      "10. No_of_Votes         : 0.2379\n"
     ]
    }
   ],
   "source": [
    "# Obter importâncias das features do modelo\n",
    "import matplotlib.pyplot as plt\n",
    "\n",
    "if hasattr(predictor.model_trainer.model, 'feature_importances_'):\n",
    "    feature_importance = pd.DataFrame({\n",
    "        'feature': predictor.model_trainer.feature_names,\n",
    "        'importance': predictor.model_trainer.model.feature_importances_\n",
    "    }).sort_values('importance', ascending=True)\n",
    "    \n",
    "    # Plot das importâncias\n",
    "    plt.figure(figsize=(10, 8))\n",
    "    plt.barh(feature_importance['feature'], feature_importance['importance'])\n",
    "    plt.title('Importância das Features no Modelo')\n",
    "    plt.xlabel('Importância')\n",
    "    plt.tight_layout()\n",
    "    plt.show()\n",
    "    \n",
    "    print(\"📊 TOP 10 FEATURES MAIS IMPORTANTES:\")\n",
    "    print(\"=\" * 50)\n",
    "    for i, (_, row) in enumerate(feature_importance.tail(10).iterrows()):\n",
    "        print(f\"{i+1:2d}. {row['feature']:<20}: {row['importance']:.4f}\")\n",
    "else:\n",
    "    print(\"⚠️ Modelo não tem informações de importância das features\")"
   ]
  },
  {
   "cell_type": "markdown",
   "id": "128e8387",
   "metadata": {},
   "source": [
    "## 5. Demonstração: Como Usar para Novos Dados\n",
    "\n",
    "Esta seção mostra como usar a estrutura em um cenário real."
   ]
  },
  {
   "cell_type": "code",
   "execution_count": 35,
   "id": "33a7c6ba",
   "metadata": {},
   "outputs": [
    {
     "name": "stdout",
     "output_type": "stream",
     "text": [
      "🎬 Avaliando: Meu Filme Teste\n",
      "--------------------------------------------------\n",
      "Rating Predito: 7.92\n",
      "Categoria: 👍 BOM\n"
     ]
    },
    {
     "data": {
      "text/plain": [
       "np.float64(7.921661084656086)"
      ]
     },
     "execution_count": 35,
     "metadata": {},
     "output_type": "execute_result"
    }
   ],
   "source": [
    "def avaliar_filme_novo(dados_filme):\n",
    "    \"\"\"\n",
    "    Função para avaliar um filme novo usando a estrutura criada.\n",
    "    \"\"\"\n",
    "    print(f\"🎬 Avaliando: {dados_filme['Series_Title']}\")\n",
    "    print(\"-\" * 50)\n",
    "    \n",
    "    # Fazer predição\n",
    "    rating_predito = predictor.predict_single(dados_filme)\n",
    "    \n",
    "    # Classificar o filme\n",
    "    if rating_predito >= 8.0:\n",
    "        categoria = \"🌟 EXCELENTE\"\n",
    "    elif rating_predito >= 7.0:\n",
    "        categoria = \"👍 BOM\"\n",
    "    elif rating_predito >= 6.0:\n",
    "        categoria = \"😐 MEDIANO\"\n",
    "    else:\n",
    "        categoria = \"👎 FRACO\"\n",
    "    \n",
    "    print(f\"Rating Predito: {rating_predito:.2f}\")\n",
    "    print(f\"Categoria: {categoria}\")\n",
    "    \n",
    "    return rating_predito\n",
    "\n",
    "# Teste com um filme fictício\n",
    "filme_teste = {\n",
    "    'Series_Title': 'Meu Filme Teste',\n",
    "    'Released_Year': 2023,\n",
    "    'Certificate': 'PG-13',\n",
    "    'Runtime': '120 min',\n",
    "    'Genre': 'Action,Drama',\n",
    "    'Overview': 'Um filme de teste.',\n",
    "    'Meta_score': 75.0,\n",
    "    'Director': 'Diretor Teste',\n",
    "    'Star1': 'Ator 1',\n",
    "    'Star2': 'Ator 2',\n",
    "    'Star3': 'Ator 3',\n",
    "    'Star4': 'Ator 4',\n",
    "    'No_of_Votes': 50000,\n",
    "    'Gross': '5000000'\n",
    "}\n",
    "\n",
    "avaliar_filme_novo(filme_teste)"
   ]
  },
  {
   "cell_type": "markdown",
   "id": "0ff6fa05",
   "metadata": {},
   "source": [
    "## 6. Resumo da Nova Estrutura\n",
    "\n",
    "### ✅ Vantagens Alcançadas:\n",
    "\n",
    "1. **Separação Clara de Responsabilidades**:\n",
    "   - `DataProcessor`: Limpeza, feature engineering, transformações\n",
    "   - `ModelTrainer`: Treinamento, avaliação, serialização do modelo\n",
    "   - `MoviePredictor`: Interface para predições\n",
    "\n",
    "2. **Reutilização e Consistência**:\n",
    "   - Mesmo processor usado no treino e predição\n",
    "   - Transformações salvas e reutilizáveis\n",
    "\n",
    "3. **Facilidade de Manutenção**:\n",
    "   - Adicionar novas features: apenas no `DataProcessor`\n",
    "   - Testar novos modelos: apenas no `ModelTrainer`\n",
    "   - Mudanças isoladas não afetam outros componentes\n",
    "\n",
    "4. **Escalabilidade**:\n",
    "   - Fácil adicionar novos tipos de modelo\n",
    "   - Pipeline flexível para diferentes datasets\n",
    "   - Predições em lote ou individuais\n",
    "\n",
    "### 📁 Estrutura de Arquivos:\n",
    "```\n",
    "scripts/\n",
    "├── data_processor.py      # Preparação dos dados\n",
    "├── train_model_v2.py      # Treinamento do modelo\n",
    "├── predict.py             # Interface de predição\n",
    "├── preprocess.py          # Limpeza básica (reutilizada)\n",
    "└── train_model.py         # Versão antiga (deprecated)\n",
    "\n",
    "models/\n",
    "├── rf_model.pkl           # Modelo treinado\n",
    "└── data_processor.pkl     # Processor configurado\n",
    "```\n",
    "\n",
    "### 🚀 Como Usar em Produção:\n",
    "```python\n",
    "# Carregar uma vez\n",
    "predictor = MoviePredictor('models/rf_model.pkl', 'models/data_processor.pkl')\n",
    "\n",
    "# Usar para múltiplas predições\n",
    "rating = predictor.predict_single(dados_filme)\n",
    "```"
   ]
  }
 ],
 "metadata": {
  "kernelspec": {
   "display_name": ".venv",
   "language": "python",
   "name": "python3"
  },
  "language_info": {
   "codemirror_mode": {
    "name": "ipython",
    "version": 3
   },
   "file_extension": ".py",
   "mimetype": "text/x-python",
   "name": "python",
   "nbconvert_exporter": "python",
   "pygments_lexer": "ipython3",
   "version": "3.12.10"
  }
 },
 "nbformat": 4,
 "nbformat_minor": 5
}
